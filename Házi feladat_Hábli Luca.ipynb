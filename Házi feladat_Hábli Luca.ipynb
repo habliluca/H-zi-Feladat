{
    "metadata": {
        "kernelspec": {
            "name": "SQL",
            "display_name": "SQL",
            "language": "sql"
        },
        "language_info": {
            "name": "sql",
            "version": ""
        }
    },
    "nbformat_minor": 2,
    "nbformat": 4,
    "cells": [
        {
            "cell_type": "code",
            "source": [
                "--Kiválasztott tábla DIAKMUNKA\r\n",
                "\r\n",
                "--1. oszlop Oradij - Óradíj átlaga, maximális óradíj, óradíjak szórása, óradíjak lehetőségeinek száma\r\n",
                "\r\n",
                "SELECT AVG(oradij) AS 'Átlagos óradíj',\r\n",
                "       MAX(oradij) AS 'Maximáis óradíj',\r\n",
                "       STDEV(oradij) AS 'Óradíj átlagtól való átlagos eltérése',\r\n",
                "       COUNT(Distinct oradij) AS 'Óradíj lehetőségeinek száma'\r\n",
                "FROM munka"
            ],
            "metadata": {
                "azdata_cell_guid": "b7f5a2c8-d80f-4d52-8cfc-fd2ad09b8c47",
                "language": "sql",
                "tags": []
            },
            "outputs": [
                {
                    "output_type": "display_data",
                    "data": {
                        "text/html": "(1 row affected)"
                    },
                    "metadata": {}
                },
                {
                    "output_type": "display_data",
                    "data": {
                        "text/html": "Total execution time: 00:00:00.010"
                    },
                    "metadata": {}
                },
                {
                    "output_type": "execute_result",
                    "execution_count": 38,
                    "data": {
                        "application/vnd.dataresource+json": {
                            "schema": {
                                "fields": [
                                    {
                                        "name": "Átlagos óradíj"
                                    },
                                    {
                                        "name": "Maximáis óradíj"
                                    },
                                    {
                                        "name": "Óradíj átlagtól való eltérése"
                                    },
                                    {
                                        "name": "Óradíj lehetőségeinek száma"
                                    }
                                ]
                            },
                            "data": [
                                {
                                    "Átlagos óradíj": "346",
                                    "Maximáis óradíj": "500",
                                    "Óradíj átlagtól való eltérése": "82,4547178019844",
                                    "Óradíj lehetőségeinek száma": "7"
                                }
                            ]
                        },
                        "text/html": "<table><tr><th>Átlagos óradíj</th><th>Maximáis óradíj</th><th>Óradíj átlagtól való eltérése</th><th>Óradíj lehetőségeinek száma</th></tr><tr><td>346</td><td>500</td><td>82,4547178019844</td><td>7</td></tr></table>"
                    },
                    "metadata": {}
                }
            ],
            "execution_count": 38
        },
        {
            "cell_type": "code",
            "source": [
                "--2. oszlop - Karakterláncok minimuma és maximuma\r\n",
                "\r\n",
                "SELECT MIN(allas) AS 'Legrövidebb karakterlánc', \r\n",
                "       MAX(allas) AS 'Leghosszabb karakterlánc'\r\n",
                "FROM munka\r\n",
                "WHERE allas IS NOT NULL\r\n",
                "AND LEN(allas) > 0\r\n",
                ""
            ],
            "metadata": {
                "azdata_cell_guid": "208965ec-3357-497a-ba39-b3ee68859467",
                "language": "sql"
            },
            "outputs": [
                {
                    "output_type": "display_data",
                    "data": {
                        "text/html": "(1 row affected)"
                    },
                    "metadata": {}
                },
                {
                    "output_type": "display_data",
                    "data": {
                        "text/html": "Total execution time: 00:00:00.006"
                    },
                    "metadata": {}
                },
                {
                    "output_type": "execute_result",
                    "execution_count": 16,
                    "data": {
                        "application/vnd.dataresource+json": {
                            "schema": {
                                "fields": [
                                    {
                                        "name": "Legrövidebb karakterlánc"
                                    },
                                    {
                                        "name": "Leghosszabb karakterlánc"
                                    }
                                ]
                            },
                            "data": [
                                {
                                    "Legrövidebb karakterlánc": "eladó",
                                    "Leghosszabb karakterlánc": "ügyfélszolgálati munkatárs"
                                }
                            ]
                        },
                        "text/html": "<table><tr><th>Legrövidebb karakterlánc</th><th>Leghosszabb karakterlánc</th></tr><tr><td>eladó</td><td>ügyfélszolgálati munkatárs</td></tr></table>"
                    },
                    "metadata": {}
                }
            ],
            "execution_count": 16
        },
        {
            "cell_type": "code",
            "source": [
                "--2.1 oszlop - Legtöbbször szereplő értékek\r\n",
                "\r\n",
                "SELECT allas AS 'Állás típusa', \r\n",
                "    COUNT(*) AS 'Hirdetett állások száma'\r\n",
                "FROM munka\r\n",
                "WHERE allas IS NOT null\r\n",
                "GROUP BY allas\r\n",
                "ORDER BY COUNT(*) DESC"
            ],
            "metadata": {
                "azdata_cell_guid": "f5594c7c-d807-452a-89d8-4cb413a78164",
                "language": "sql"
            },
            "outputs": [
                {
                    "output_type": "display_data",
                    "data": {
                        "text/html": "(9 rows affected)"
                    },
                    "metadata": {}
                },
                {
                    "output_type": "display_data",
                    "data": {
                        "text/html": "Total execution time: 00:00:00.007"
                    },
                    "metadata": {}
                },
                {
                    "output_type": "execute_result",
                    "execution_count": 8,
                    "data": {
                        "application/vnd.dataresource+json": {
                            "schema": {
                                "fields": [
                                    {
                                        "name": "Állás típusa"
                                    },
                                    {
                                        "name": "Hirdetett állások száma"
                                    }
                                ]
                            },
                            "data": [
                                {
                                    "Állás típusa": "eladó",
                                    "Hirdetett állások száma": "12"
                                },
                                {
                                    "Állás típusa": "takarító",
                                    "Hirdetett állások száma": "9"
                                },
                                {
                                    "Állás típusa": "ruhatáros",
                                    "Hirdetett állások száma": "6"
                                },
                                {
                                    "Állás típusa": "raktáros",
                                    "Hirdetett állások száma": "4"
                                },
                                {
                                    "Állás típusa": "kisegítő",
                                    "Hirdetett állások száma": "4"
                                },
                                {
                                    "Állás típusa": "pincér",
                                    "Hirdetett állások száma": "2"
                                },
                                {
                                    "Állás típusa": "kézbesítő",
                                    "Hirdetett állások száma": "2"
                                },
                                {
                                    "Állás típusa": "ügyfélszolgálati munkatárs",
                                    "Hirdetett állások száma": "1"
                                },
                                {
                                    "Állás típusa": "futár",
                                    "Hirdetett állások száma": "1"
                                }
                            ]
                        },
                        "text/html": "<table><tr><th>Állás típusa</th><th>Hirdetett állások száma</th></tr><tr><td>eladó</td><td>12</td></tr><tr><td>takarító</td><td>9</td></tr><tr><td>ruhatáros</td><td>6</td></tr><tr><td>raktáros</td><td>4</td></tr><tr><td>kisegítő</td><td>4</td></tr><tr><td>pincér</td><td>2</td></tr><tr><td>kézbesítő</td><td>2</td></tr><tr><td>ügyfélszolgálati munkatárs</td><td>1</td></tr><tr><td>futár</td><td>1</td></tr></table>"
                    },
                    "metadata": {
                        "azdata_chartOptions": {
                            "type": "bar",
                            "dataDirection": "horizontal",
                            "columnsAsLabels": true,
                            "labelFirstColumn": false,
                            "legendPosition": "top"
                        }
                    }
                }
            ],
            "execution_count": 8
        },
        {
            "cell_type": "code",
            "source": [
                "--2.2 oszlop - Leghosszabb és legrövidebb karakterlánc közti különbség'\r\n",
                "\r\n",
                "\r\n",
                "SELECT MAX(LEN(allas))-MIN(LEN(allas)) AS 'Leghosszabb és legrövidebb karakterlánc közti különbség'\r\n",
                "FROM munka"
            ],
            "metadata": {
                "azdata_cell_guid": "911f0706-5719-4bfe-aa05-68a7647c3c71",
                "language": "sql",
                "tags": [
                    "hide_input"
                ]
            },
            "outputs": [
                {
                    "output_type": "display_data",
                    "data": {
                        "text/html": "(1 row affected)"
                    },
                    "metadata": {}
                },
                {
                    "output_type": "display_data",
                    "data": {
                        "text/html": "Total execution time: 00:00:00.005"
                    },
                    "metadata": {}
                },
                {
                    "output_type": "execute_result",
                    "execution_count": 18,
                    "data": {
                        "application/vnd.dataresource+json": {
                            "schema": {
                                "fields": [
                                    {
                                        "name": "Leghosszabb és legrövidebb karakterlánc közti különbség"
                                    }
                                ]
                            },
                            "data": [
                                {
                                    "Leghosszabb és legrövidebb karakterlánc közti különbség": "21"
                                }
                            ]
                        },
                        "text/html": "<table><tr><th>Leghosszabb és legrövidebb karakterlánc közti különbség</th></tr><tr><td>21</td></tr></table>"
                    },
                    "metadata": {}
                }
            ],
            "execution_count": 18
        }
    ]
}