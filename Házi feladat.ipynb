{
    "metadata": {
        "kernelspec": {
            "name": "SQL",
            "display_name": "SQL",
            "language": "sql"
        },
        "language_info": {
            "name": "sql",
            "version": ""
        }
    },
    "nbformat_minor": 2,
    "nbformat": 4,
    "cells": [
        {
            "cell_type": "code",
            "source": [
                "--Kiválasztott tábla DIAKMUNKA\r\n",
                "\r\n",
                "--1. oszlop Oradij\r\n",
                "\r\n",
                "SELECT AVG(oradij) AS 'Átlagos óradíj',\r\n",
                "       MAX(oradij) AS 'Maximáis óradíj',\r\n",
                "       STDEV(oradij) AS 'Óradíj átlagtól való eltérése',\r\n",
                "       COUNT(Distinct oradij) AS 'Óradíj lehetőségeinek száma'\r\n",
                "FROM munka"
            ],
            "metadata": {
                "azdata_cell_guid": "b7f5a2c8-d80f-4d52-8cfc-fd2ad09b8c47",
                "language": "sql",
                "tags": []
            },
            "outputs": [
                {
                    "output_type": "display_data",
                    "data": {
                        "text/html": "(1 row affected)"
                    },
                    "metadata": {}
                },
                {
                    "output_type": "display_data",
                    "data": {
                        "text/html": "Total execution time: 00:00:00.010"
                    },
                    "metadata": {}
                },
                {
                    "output_type": "execute_result",
                    "metadata": {},
                    "execution_count": 38,
                    "data": {
                        "application/vnd.dataresource+json": {
                            "schema": {
                                "fields": [
                                    {
                                        "name": "Átlagos óradíj"
                                    },
                                    {
                                        "name": "Maximáis óradíj"
                                    },
                                    {
                                        "name": "Óradíj átlagtól való eltérése"
                                    },
                                    {
                                        "name": "Óradíj lehetőségeinek száma"
                                    }
                                ]
                            },
                            "data": [
                                {
                                    "Átlagos óradíj": "346",
                                    "Maximáis óradíj": "500",
                                    "Óradíj átlagtól való eltérése": "82,4547178019844",
                                    "Óradíj lehetőségeinek száma": "7"
                                }
                            ]
                        },
                        "text/html": [
                            "<table>",
                            "<tr><th>Átlagos óradíj</th><th>Maximáis óradíj</th><th>Óradíj átlagtól való eltérése</th><th>Óradíj lehetőségeinek száma</th></tr>",
                            "<tr><td>346</td><td>500</td><td>82,4547178019844</td><td>7</td></tr>",
                            "</table>"
                        ]
                    }
                }
            ],
            "execution_count": 38
        },
        {
            "cell_type": "code",
            "source": [
                "--2. oszlop \r\n",
                "\r\n",
                "SELECT MIN(allas) AS 'Legrövidebb karakterlánc', \r\n",
                "       MAX(allas) AS 'Leghosszabb karakterlánc' \r\n",
                "FROM munka\r\n",
                "WHERE allas IS NOT NULL\r\n",
                "AND LEN(allas) > 0\r\n",
                ""
            ],
            "metadata": {
                "azdata_cell_guid": "208965ec-3357-497a-ba39-b3ee68859467",
                "language": "sql"
            },
            "outputs": [
                {
                    "output_type": "display_data",
                    "data": {
                        "text/html": "(1 row affected)"
                    },
                    "metadata": {}
                },
                {
                    "output_type": "display_data",
                    "data": {
                        "text/html": "Total execution time: 00:00:00.008"
                    },
                    "metadata": {}
                },
                {
                    "output_type": "execute_result",
                    "metadata": {},
                    "execution_count": 45,
                    "data": {
                        "application/vnd.dataresource+json": {
                            "schema": {
                                "fields": [
                                    {
                                        "name": "Legrövidebb karakterlánc"
                                    },
                                    {
                                        "name": "Leghosszabb karakterlánc"
                                    }
                                ]
                            },
                            "data": [
                                {
                                    "Legrövidebb karakterlánc": "eladó",
                                    "Leghosszabb karakterlánc": "ügyfélszolgálati munkatárs"
                                }
                            ]
                        },
                        "text/html": [
                            "<table>",
                            "<tr><th>Legrövidebb karakterlánc</th><th>Leghosszabb karakterlánc</th></tr>",
                            "<tr><td>eladó</td><td>ügyfélszolgálati munkatárs</td></tr>",
                            "</table>"
                        ]
                    }
                }
            ],
            "execution_count": 45
        }
    ]
}